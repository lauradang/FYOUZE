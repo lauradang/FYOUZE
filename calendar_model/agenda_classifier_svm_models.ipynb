{
  "nbformat": 4,
  "nbformat_minor": 0,
  "metadata": {
    "colab": {
      "name": "agenda-classifier-svm-models.ipynb",
      "provenance": [],
      "collapsed_sections": [],
      "toc_visible": true,
      "authorship_tag": "ABX9TyOiwXeE4ZFLgcui9OGepDA+",
      "include_colab_link": true
    },
    "kernelspec": {
      "name": "python3",
      "display_name": "Python 3"
    },
    "widgets": {
      "application/vnd.jupyter.widget-state+json": {
        "3860c125259d48e3858c9d7676e76dad": {
          "model_module": "@jupyter-widgets/controls",
          "model_name": "HBoxModel",
          "state": {
            "_view_name": "HBoxView",
            "_dom_classes": [],
            "_model_name": "HBoxModel",
            "_view_module": "@jupyter-widgets/controls",
            "_model_module_version": "1.5.0",
            "_view_count": null,
            "_view_module_version": "1.5.0",
            "box_style": "",
            "layout": "IPY_MODEL_7b2c54e8a7e24c2f8a57408d75923cf3",
            "_model_module": "@jupyter-widgets/controls",
            "children": [
              "IPY_MODEL_7c8b686746634b16bae5950c68c08a13",
              "IPY_MODEL_be70f04a9aba4179911a1151ed0da108"
            ]
          }
        },
        "7b2c54e8a7e24c2f8a57408d75923cf3": {
          "model_module": "@jupyter-widgets/base",
          "model_name": "LayoutModel",
          "state": {
            "_view_name": "LayoutView",
            "grid_template_rows": null,
            "right": null,
            "justify_content": null,
            "_view_module": "@jupyter-widgets/base",
            "overflow": null,
            "_model_module_version": "1.2.0",
            "_view_count": null,
            "flex_flow": null,
            "width": null,
            "min_width": null,
            "border": null,
            "align_items": null,
            "bottom": null,
            "_model_module": "@jupyter-widgets/base",
            "top": null,
            "grid_column": null,
            "overflow_y": null,
            "overflow_x": null,
            "grid_auto_flow": null,
            "grid_area": null,
            "grid_template_columns": null,
            "flex": null,
            "_model_name": "LayoutModel",
            "justify_items": null,
            "grid_row": null,
            "max_height": null,
            "align_content": null,
            "visibility": null,
            "align_self": null,
            "height": null,
            "min_height": null,
            "padding": null,
            "grid_auto_rows": null,
            "grid_gap": null,
            "max_width": null,
            "order": null,
            "_view_module_version": "1.2.0",
            "grid_template_areas": null,
            "object_position": null,
            "object_fit": null,
            "grid_auto_columns": null,
            "margin": null,
            "display": null,
            "left": null
          }
        },
        "7c8b686746634b16bae5950c68c08a13": {
          "model_module": "@jupyter-widgets/controls",
          "model_name": "IntProgressModel",
          "state": {
            "_view_name": "ProgressView",
            "style": "IPY_MODEL_ec2ebda4c59b40c38c808b7df09f9786",
            "_dom_classes": [],
            "description": "100%",
            "_model_name": "IntProgressModel",
            "bar_style": "success",
            "max": 100,
            "_view_module": "@jupyter-widgets/controls",
            "_model_module_version": "1.5.0",
            "value": 100,
            "_view_count": null,
            "_view_module_version": "1.5.0",
            "orientation": "horizontal",
            "min": 0,
            "description_tooltip": null,
            "_model_module": "@jupyter-widgets/controls",
            "layout": "IPY_MODEL_e6a32ad6a5d84172a1885716c711642b"
          }
        },
        "be70f04a9aba4179911a1151ed0da108": {
          "model_module": "@jupyter-widgets/controls",
          "model_name": "HTMLModel",
          "state": {
            "_view_name": "HTMLView",
            "style": "IPY_MODEL_caf92133b26c4c7fbd3e462f36b9b17e",
            "_dom_classes": [],
            "description": "",
            "_model_name": "HTMLModel",
            "placeholder": "​",
            "_view_module": "@jupyter-widgets/controls",
            "_model_module_version": "1.5.0",
            "value": " 100/100 [43:59&lt;00:00, 26.39s/it]",
            "_view_count": null,
            "_view_module_version": "1.5.0",
            "description_tooltip": null,
            "_model_module": "@jupyter-widgets/controls",
            "layout": "IPY_MODEL_b3865c031eb647e4bdf45052ee1ced44"
          }
        },
        "ec2ebda4c59b40c38c808b7df09f9786": {
          "model_module": "@jupyter-widgets/controls",
          "model_name": "ProgressStyleModel",
          "state": {
            "_view_name": "StyleView",
            "_model_name": "ProgressStyleModel",
            "description_width": "initial",
            "_view_module": "@jupyter-widgets/base",
            "_model_module_version": "1.5.0",
            "_view_count": null,
            "_view_module_version": "1.2.0",
            "bar_color": null,
            "_model_module": "@jupyter-widgets/controls"
          }
        },
        "e6a32ad6a5d84172a1885716c711642b": {
          "model_module": "@jupyter-widgets/base",
          "model_name": "LayoutModel",
          "state": {
            "_view_name": "LayoutView",
            "grid_template_rows": null,
            "right": null,
            "justify_content": null,
            "_view_module": "@jupyter-widgets/base",
            "overflow": null,
            "_model_module_version": "1.2.0",
            "_view_count": null,
            "flex_flow": null,
            "width": null,
            "min_width": null,
            "border": null,
            "align_items": null,
            "bottom": null,
            "_model_module": "@jupyter-widgets/base",
            "top": null,
            "grid_column": null,
            "overflow_y": null,
            "overflow_x": null,
            "grid_auto_flow": null,
            "grid_area": null,
            "grid_template_columns": null,
            "flex": null,
            "_model_name": "LayoutModel",
            "justify_items": null,
            "grid_row": null,
            "max_height": null,
            "align_content": null,
            "visibility": null,
            "align_self": null,
            "height": null,
            "min_height": null,
            "padding": null,
            "grid_auto_rows": null,
            "grid_gap": null,
            "max_width": null,
            "order": null,
            "_view_module_version": "1.2.0",
            "grid_template_areas": null,
            "object_position": null,
            "object_fit": null,
            "grid_auto_columns": null,
            "margin": null,
            "display": null,
            "left": null
          }
        },
        "caf92133b26c4c7fbd3e462f36b9b17e": {
          "model_module": "@jupyter-widgets/controls",
          "model_name": "DescriptionStyleModel",
          "state": {
            "_view_name": "StyleView",
            "_model_name": "DescriptionStyleModel",
            "description_width": "",
            "_view_module": "@jupyter-widgets/base",
            "_model_module_version": "1.5.0",
            "_view_count": null,
            "_view_module_version": "1.2.0",
            "_model_module": "@jupyter-widgets/controls"
          }
        },
        "b3865c031eb647e4bdf45052ee1ced44": {
          "model_module": "@jupyter-widgets/base",
          "model_name": "LayoutModel",
          "state": {
            "_view_name": "LayoutView",
            "grid_template_rows": null,
            "right": null,
            "justify_content": null,
            "_view_module": "@jupyter-widgets/base",
            "overflow": null,
            "_model_module_version": "1.2.0",
            "_view_count": null,
            "flex_flow": null,
            "width": null,
            "min_width": null,
            "border": null,
            "align_items": null,
            "bottom": null,
            "_model_module": "@jupyter-widgets/base",
            "top": null,
            "grid_column": null,
            "overflow_y": null,
            "overflow_x": null,
            "grid_auto_flow": null,
            "grid_area": null,
            "grid_template_columns": null,
            "flex": null,
            "_model_name": "LayoutModel",
            "justify_items": null,
            "grid_row": null,
            "max_height": null,
            "align_content": null,
            "visibility": null,
            "align_self": null,
            "height": null,
            "min_height": null,
            "padding": null,
            "grid_auto_rows": null,
            "grid_gap": null,
            "max_width": null,
            "order": null,
            "_view_module_version": "1.2.0",
            "grid_template_areas": null,
            "object_position": null,
            "object_fit": null,
            "grid_auto_columns": null,
            "margin": null,
            "display": null,
            "left": null
          }
        }
      }
    }
  },
  "cells": [
    {
      "cell_type": "markdown",
      "metadata": {
        "id": "view-in-github",
        "colab_type": "text"
      },
      "source": [
        "<a href=\"https://colab.research.google.com/github/lauradang/FYOUZE/blob/master/calendar_model/agenda_classifier_svm_models.ipynb\" target=\"_parent\"><img src=\"https://colab.research.google.com/assets/colab-badge.svg\" alt=\"Open In Colab\"/></a>"
      ]
    },
    {
      "cell_type": "markdown",
      "metadata": {
        "id": "IzwicCSuJg8G",
        "colab_type": "text"
      },
      "source": [
        "# Training Agenda Type/Template SVM\n",
        "For the agenda type classifiers, we need a way to identify items that do not belong in any category. Creating a garbage class for the classifier makes it hard for the neural network to generalize, and thus, lowers the overall validation accuracy of the model. \n",
        "\n",
        "Creating a separate one class SVM that detects outliers from the dataset ensures that we can identify items that do not fit into any category while keeping the accuracies of the classifier high.\n",
        "\n",
        "\n",
        "**IMPORTANT DEPENDENCY NOTE**:\n",
        "\n",
        "If the `scikit-learn` version in the API is different from the version used in this notebook, then it will most likely not work in the API. You can train and save the model again with the desired `scikit-learn` version using the same hyperparameters shown in this notebook.\n"
      ]
    },
    {
      "cell_type": "code",
      "metadata": {
        "id": "56J7pZjpa9aV",
        "colab_type": "code",
        "colab": {
          "base_uri": "https://localhost:8080/",
          "height": 293
        },
        "outputId": "9413bb80-a4ba-4738-c57d-3e2a8f7e3f79"
      },
      "source": [
        "!pip install scikit-learn==0.20.3"
      ],
      "execution_count": 5,
      "outputs": [
        {
          "output_type": "stream",
          "text": [
            "Collecting scikit-learn==0.20.3\n",
            "\u001b[?25l  Downloading https://files.pythonhosted.org/packages/5e/82/c0de5839d613b82bddd088599ac0bbfbbbcbd8ca470680658352d2c435bd/scikit_learn-0.20.3-cp36-cp36m-manylinux1_x86_64.whl (5.4MB)\n",
            "\u001b[K     |████████████████████████████████| 5.4MB 2.8MB/s \n",
            "\u001b[?25hRequirement already satisfied: numpy>=1.8.2 in /usr/local/lib/python3.6/dist-packages (from scikit-learn==0.20.3) (1.18.2)\n",
            "Requirement already satisfied: scipy>=0.13.3 in /usr/local/lib/python3.6/dist-packages (from scikit-learn==0.20.3) (1.4.1)\n",
            "Installing collected packages: scikit-learn\n",
            "  Found existing installation: scikit-learn 0.22.2.post1\n",
            "    Uninstalling scikit-learn-0.22.2.post1:\n",
            "      Successfully uninstalled scikit-learn-0.22.2.post1\n",
            "Successfully installed scikit-learn-0.20.3\n"
          ],
          "name": "stdout"
        },
        {
          "output_type": "display_data",
          "data": {
            "application/vnd.colab-display-data+json": {
              "pip_warning": {
                "packages": [
                  "sklearn"
                ]
              }
            }
          },
          "metadata": {
            "tags": []
          }
        }
      ]
    },
    {
      "cell_type": "code",
      "metadata": {
        "id": "ANFQR0txbMDu",
        "colab_type": "code",
        "colab": {
          "base_uri": "https://localhost:8080/",
          "height": 1000
        },
        "outputId": "ae296384-3f18-4510-cdd3-435b4702e134"
      },
      "source": [
        "!pip list"
      ],
      "execution_count": 5,
      "outputs": [
        {
          "output_type": "stream",
          "text": [
            "Package                  Version        \n",
            "------------------------ ---------------\n",
            "absl-py                  0.9.0          \n",
            "alabaster                0.7.12         \n",
            "albumentations           0.1.12         \n",
            "altair                   4.1.0          \n",
            "asgiref                  3.2.7          \n",
            "astor                    0.8.1          \n",
            "astropy                  4.0.1.post1    \n",
            "astunparse               1.6.3          \n",
            "atari-py                 0.2.6          \n",
            "atomicwrites             1.3.0          \n",
            "attrs                    19.3.0         \n",
            "audioread                2.1.8          \n",
            "autograd                 1.3            \n",
            "Babel                    2.8.0          \n",
            "backcall                 0.1.0          \n",
            "beautifulsoup4           4.6.3          \n",
            "bleach                   3.1.4          \n",
            "blis                     0.4.1          \n",
            "bokeh                    1.4.0          \n",
            "boto                     2.49.0         \n",
            "boto3                    1.12.39        \n",
            "botocore                 1.15.39        \n",
            "Bottleneck               1.3.2          \n",
            "branca                   0.4.0          \n",
            "bs4                      0.0.1          \n",
            "CacheControl             0.12.6         \n",
            "cachetools               3.1.1          \n",
            "catalogue                1.0.0          \n",
            "certifi                  2020.4.5.1     \n",
            "cffi                     1.14.0         \n",
            "chainer                  6.5.0          \n",
            "chardet                  3.0.4          \n",
            "click                    7.1.1          \n",
            "cloudpickle              1.3.0          \n",
            "cmake                    3.12.0         \n",
            "cmdstanpy                0.4.0          \n",
            "colorlover               0.3.0          \n",
            "community                1.0.0b1        \n",
            "contextlib2              0.5.5          \n",
            "convertdate              2.2.0          \n",
            "coverage                 3.7.1          \n",
            "coveralls                0.5            \n",
            "crcmod                   1.7            \n",
            "cufflinks                0.17.3         \n",
            "cvxopt                   1.2.4          \n",
            "cvxpy                    1.0.31         \n",
            "cycler                   0.10.0         \n",
            "cymem                    2.0.3          \n",
            "Cython                   0.29.16        \n",
            "daft                     0.0.4          \n",
            "dask                     2.12.0         \n",
            "dataclasses              0.7            \n",
            "datascience              0.10.6         \n",
            "decorator                4.4.2          \n",
            "defusedxml               0.6.0          \n",
            "descartes                1.1.0          \n",
            "dill                     0.3.1.1        \n",
            "distributed              1.25.3         \n",
            "Django                   3.0.5          \n",
            "dlib                     19.18.0        \n",
            "docopt                   0.6.2          \n",
            "docutils                 0.15.2         \n",
            "dopamine-rl              1.0.5          \n",
            "earthengine-api          0.1.217        \n",
            "easydict                 1.9            \n",
            "ecos                     2.0.7.post1    \n",
            "editdistance             0.5.3          \n",
            "en-core-web-sm           2.2.5          \n",
            "entrypoints              0.3            \n",
            "ephem                    3.7.7.1        \n",
            "et-xmlfile               1.0.1          \n",
            "fa2                      0.3.5          \n",
            "fancyimpute              0.4.3          \n",
            "fastai                   1.0.60         \n",
            "fastdtw                  0.3.4          \n",
            "fastprogress             0.2.3          \n",
            "fastrlock                0.4            \n",
            "fbprophet                0.6            \n",
            "feather-format           0.4.0          \n",
            "featuretools             0.4.1          \n",
            "filelock                 3.0.12         \n",
            "firebase-admin           4.0.1          \n",
            "fix-yahoo-finance        0.0.22         \n",
            "Flask                    1.1.2          \n",
            "folium                   0.8.3          \n",
            "fsspec                   0.7.2          \n",
            "future                   0.16.0         \n",
            "gast                     0.3.3          \n",
            "GDAL                     2.2.2          \n",
            "gdown                    3.6.4          \n",
            "gensim                   3.6.0          \n",
            "geographiclib            1.50           \n",
            "geopy                    1.17.0         \n",
            "gin-config               0.3.0          \n",
            "glob2                    0.7            \n",
            "google                   2.0.3          \n",
            "google-api-core          1.16.0         \n",
            "google-api-python-client 1.7.12         \n",
            "google-auth              1.7.2          \n",
            "google-auth-httplib2     0.0.3          \n",
            "google-auth-oauthlib     0.4.1          \n",
            "google-cloud-bigquery    1.21.0         \n",
            "google-cloud-core        1.0.3          \n",
            "google-cloud-datastore   1.8.0          \n",
            "google-cloud-firestore   1.6.2          \n",
            "google-cloud-language    1.2.0          \n",
            "google-cloud-storage     1.18.1         \n",
            "google-cloud-translate   1.5.0          \n",
            "google-colab             1.0.0          \n",
            "google-pasta             0.2.0          \n",
            "google-resumable-media   0.4.1          \n",
            "googleapis-common-protos 1.51.0         \n",
            "googledrivedownloader    0.4            \n",
            "graphviz                 0.10.1         \n",
            "grpcio                   1.28.1         \n",
            "gspread                  3.0.1          \n",
            "gspread-dataframe        3.0.5          \n",
            "gym                      0.17.1         \n",
            "h5py                     2.10.0         \n",
            "HeapDict                 1.0.1          \n",
            "holidays                 0.9.12         \n",
            "html5lib                 1.0.1          \n",
            "httpimport               0.5.18         \n",
            "httplib2                 0.17.2         \n",
            "httplib2shim             0.0.3          \n",
            "humanize                 0.5.1          \n",
            "hyperopt                 0.1.2          \n",
            "ideep4py                 2.0.0.post3    \n",
            "idna                     2.8            \n",
            "image                    1.5.30         \n",
            "imageio                  2.4.1          \n",
            "imagesize                1.2.0          \n",
            "imbalanced-learn         0.4.3          \n",
            "imblearn                 0.0            \n",
            "imgaug                   0.2.9          \n",
            "importlib-metadata       1.6.0          \n",
            "imutils                  0.5.3          \n",
            "inflect                  2.1.0          \n",
            "intel-openmp             2020.0.133     \n",
            "intervaltree             2.1.0          \n",
            "ipykernel                4.10.1         \n",
            "ipython                  5.5.0          \n",
            "ipython-genutils         0.2.0          \n",
            "ipython-sql              0.3.9          \n",
            "ipywidgets               7.5.1          \n",
            "itsdangerous             1.1.0          \n",
            "jax                      0.1.62         \n",
            "jaxlib                   0.1.42         \n",
            "jdcal                    1.4.1          \n",
            "jedi                     0.17.0         \n",
            "jieba                    0.42.1         \n",
            "Jinja2                   2.11.2         \n",
            "jmespath                 0.9.5          \n",
            "joblib                   0.14.1         \n",
            "jpeg4py                  0.1.4          \n",
            "jsonschema               2.6.0          \n",
            "jupyter                  1.0.0          \n",
            "jupyter-client           5.3.4          \n",
            "jupyter-console          5.2.0          \n",
            "jupyter-core             4.6.3          \n",
            "kaggle                   1.5.6          \n",
            "kapre                    0.1.3.1        \n",
            "Keras                    2.3.1          \n",
            "Keras-Applications       1.0.8          \n",
            "Keras-Preprocessing      1.1.0          \n",
            "keras-vis                0.4.1          \n",
            "kiwisolver               1.2.0          \n",
            "knnimpute                0.1.0          \n",
            "librosa                  0.6.3          \n",
            "lightgbm                 2.2.3          \n",
            "llvmlite                 0.31.0         \n",
            "lmdb                     0.98           \n",
            "lucid                    0.3.8          \n",
            "LunarCalendar            0.0.9          \n",
            "lxml                     4.2.6          \n",
            "Markdown                 3.2.1          \n",
            "MarkupSafe               1.1.1          \n",
            "matplotlib               3.2.1          \n",
            "matplotlib-venn          0.11.5         \n",
            "missingno                0.4.2          \n",
            "mistune                  0.8.4          \n",
            "mizani                   0.6.0          \n",
            "mkl                      2019.0         \n",
            "mlxtend                  0.14.0         \n",
            "more-itertools           8.2.0          \n",
            "moviepy                  0.2.3.5        \n",
            "mpmath                   1.1.0          \n",
            "msgpack                  1.0.0          \n",
            "multiprocess             0.70.9         \n",
            "multitasking             0.0.9          \n",
            "murmurhash               1.0.2          \n",
            "music21                  5.5.0          \n",
            "natsort                  5.5.0          \n",
            "nbconvert                5.6.1          \n",
            "nbformat                 5.0.5          \n",
            "networkx                 2.4            \n",
            "nibabel                  3.0.2          \n",
            "nltk                     3.2.5          \n",
            "notebook                 5.2.2          \n",
            "np-utils                 0.5.12.1       \n",
            "numba                    0.48.0         \n",
            "numexpr                  2.7.1          \n",
            "numpy                    1.18.2         \n",
            "nvidia-ml-py3            7.352.0        \n",
            "oauth2client             4.1.3          \n",
            "oauthlib                 3.1.0          \n",
            "okgrade                  0.4.3          \n",
            "opencv-contrib-python    4.1.2.30       \n",
            "opencv-python            4.1.2.30       \n",
            "openpyxl                 2.5.9          \n",
            "opt-einsum               3.2.0          \n",
            "osqp                     0.6.1          \n",
            "packaging                20.3           \n",
            "palettable               3.3.0          \n",
            "pandas                   1.0.3          \n",
            "pandas-datareader        0.8.1          \n",
            "pandas-gbq               0.11.0         \n",
            "pandas-profiling         1.4.1          \n",
            "pandocfilters            1.4.2          \n",
            "parso                    0.7.0          \n",
            "pathlib                  1.0.1          \n",
            "patsy                    0.5.1          \n",
            "pexpect                  4.8.0          \n",
            "pickleshare              0.7.5          \n",
            "Pillow                   7.0.0          \n",
            "pip                      19.3.1         \n",
            "pip-tools                4.5.1          \n",
            "plac                     1.1.3          \n",
            "plotly                   4.4.1          \n",
            "plotnine                 0.6.0          \n",
            "pluggy                   0.7.1          \n",
            "portpicker               1.3.1          \n",
            "prefetch-generator       1.0.1          \n",
            "preshed                  3.0.2          \n",
            "prettytable              0.7.2          \n",
            "progressbar2             3.38.0         \n",
            "prometheus-client        0.7.1          \n",
            "promise                  2.3            \n",
            "prompt-toolkit           1.0.18         \n",
            "protobuf                 3.10.0         \n",
            "psutil                   5.4.8          \n",
            "psycopg2                 2.7.6.1        \n",
            "ptvsd                    5.0.0a12       \n",
            "ptyprocess               0.6.0          \n",
            "py                       1.8.1          \n",
            "pyarrow                  0.14.1         \n",
            "pyasn1                   0.4.8          \n",
            "pyasn1-modules           0.2.8          \n",
            "pycocotools              2.0.0          \n",
            "pycparser                2.20           \n",
            "pydata-google-auth       0.3.0          \n",
            "pydot                    1.3.0          \n",
            "pydot-ng                 2.0.0          \n",
            "pydotplus                2.0.2          \n",
            "PyDrive                  1.3.1          \n",
            "pyemd                    0.5.1          \n",
            "pyglet                   1.5.0          \n",
            "Pygments                 2.1.3          \n",
            "pygobject                3.26.1         \n",
            "pymc3                    3.7            \n",
            "PyMeeus                  0.3.7          \n",
            "pymongo                  3.10.1         \n",
            "pymystem3                0.2.0          \n",
            "PyOpenGL                 3.1.5          \n",
            "pyparsing                2.4.7          \n",
            "pyrsistent               0.16.0         \n",
            "pysndfile                1.3.8          \n",
            "PySocks                  1.7.1          \n",
            "pystan                   2.19.1.1       \n",
            "pytest                   3.6.4          \n",
            "python-apt               1.6.5+ubuntu0.2\n",
            "python-chess             0.23.11        \n",
            "python-dateutil          2.8.1          \n",
            "python-louvain           0.14           \n",
            "python-slugify           4.0.0          \n",
            "python-utils             2.4.0          \n",
            "pytz                     2018.9         \n",
            "PyWavelets               1.1.1          \n",
            "PyYAML                   3.13           \n",
            "pyzmq                    19.0.0         \n",
            "qtconsole                4.7.2          \n",
            "QtPy                     1.9.0          \n",
            "regex                    2019.12.20     \n",
            "requests                 2.21.0         \n",
            "requests-oauthlib        1.3.0          \n",
            "resampy                  0.2.2          \n",
            "retrying                 1.3.3          \n",
            "rpy2                     3.2.7          \n",
            "rsa                      4.0            \n",
            "s3fs                     0.4.2          \n",
            "s3transfer               0.3.3          \n",
            "scikit-image             0.16.2         \n",
            "scikit-learn             0.20.3         \n",
            "scipy                    1.4.1          \n",
            "screen-resolution-extra  0.0.0          \n",
            "scs                      2.1.2          \n",
            "seaborn                  0.10.0         \n",
            "Send2Trash               1.5.0          \n",
            "setuptools               46.1.3         \n",
            "setuptools-git           1.2            \n",
            "Shapely                  1.7.0          \n",
            "simplegeneric            0.8.1          \n",
            "six                      1.12.0         \n",
            "sklearn                  0.0            \n",
            "sklearn-pandas           1.8.0          \n",
            "smart-open               1.11.1         \n",
            "snowballstemmer          2.0.0          \n",
            "sortedcontainers         2.1.0          \n",
            "spacy                    2.2.4          \n",
            "Sphinx                   1.8.5          \n",
            "sphinxcontrib-websupport 1.2.1          \n",
            "SQLAlchemy               1.3.16         \n",
            "sqlparse                 0.3.1          \n",
            "srsly                    1.0.2          \n",
            "statsmodels              0.10.2         \n",
            "sympy                    1.1.1          \n",
            "tables                   3.4.4          \n",
            "tabulate                 0.8.7          \n",
            "tbb                      2020.0.133     \n",
            "tblib                    1.6.0          \n",
            "tensorboard              2.2.0          \n",
            "tensorboard-plugin-wit   1.6.0.post3    \n",
            "tensorboardcolab         0.0.22         \n",
            "tensorflow               2.2.0rc3       \n",
            "tensorflow-addons        0.8.3          \n",
            "tensorflow-datasets      2.1.0          \n",
            "tensorflow-estimator     2.2.0rc0       \n",
            "tensorflow-gcs-config    2.1.8          \n",
            "tensorflow-hub           0.8.0          \n",
            "tensorflow-metadata      0.21.2         \n",
            "tensorflow-privacy       0.2.2          \n",
            "tensorflow-probability   0.9.0          \n",
            "termcolor                1.1.0          \n",
            "terminado                0.8.3          \n",
            "testpath                 0.4.4          \n",
            "text-unidecode           1.3            \n",
            "textblob                 0.15.3         \n",
            "textgenrnn               1.4.1          \n",
            "Theano                   1.0.4          \n",
            "thinc                    7.4.0          \n",
            "toolz                    0.10.0         \n",
            "torch                    1.4.0          \n",
            "torchsummary             1.5.1          \n",
            "torchtext                0.3.1          \n",
            "torchvision              0.5.0          \n",
            "tornado                  4.5.3          \n",
            "tqdm                     4.38.0         \n",
            "traitlets                4.3.3          \n",
            "tweepy                   3.6.0          \n",
            "typeguard                2.7.1          \n",
            "typing                   3.6.6          \n",
            "typing-extensions        3.6.6          \n",
            "tzlocal                  1.5.1          \n",
            "umap-learn               0.4.1          \n",
            "uritemplate              3.0.1          \n",
            "urllib3                  1.24.3         \n",
            "vega-datasets            0.8.0          \n",
            "wasabi                   0.6.0          \n",
            "wcwidth                  0.1.9          \n",
            "webencodings             0.5.1          \n",
            "Werkzeug                 1.0.1          \n",
            "wheel                    0.34.2         \n",
            "widgetsnbextension       3.5.1          \n",
            "wordcloud                1.5.0          \n",
            "wrapt                    1.12.1         \n",
            "xarray                   0.15.1         \n",
            "xgboost                  0.90           \n",
            "xkit                     0.0.0          \n",
            "xlrd                     1.1.0          \n",
            "xlwt                     1.3.0          \n",
            "yellowbrick              0.9.1          \n",
            "zict                     2.0.0          \n",
            "zipp                     3.1.0          \n"
          ],
          "name": "stdout"
        }
      ]
    },
    {
      "cell_type": "code",
      "metadata": {
        "id": "ZX-GpPuGWNng",
        "colab_type": "code",
        "outputId": "8a521731-073f-473e-faae-db59b9c4d0b1",
        "colab": {
          "base_uri": "https://localhost:8080/",
          "height": 34
        }
      },
      "source": [
        "from google.colab import drive\n",
        "drive.mount(\"/content/gdrive\", force_remount=True)"
      ],
      "execution_count": 1,
      "outputs": [
        {
          "output_type": "stream",
          "text": [
            "Mounted at /content/gdrive\n"
          ],
          "name": "stdout"
        }
      ]
    },
    {
      "cell_type": "code",
      "metadata": {
        "id": "FbqVujCuH3N1",
        "colab_type": "code",
        "colab": {}
      },
      "source": [
        "import re\n",
        "import pandas as pd\n",
        "import pickle\n",
        "import numpy as np\n",
        "import itertools\n",
        "from tqdm.notebook import tqdm\n",
        "\n",
        "from sklearn import svm, preprocessing\n",
        "from sklearn.model_selection import train_test_split\n",
        "from sklearn.feature_extraction.text import TfidfVectorizer\n",
        "from sklearn.metrics import accuracy_score\n",
        "from sklearn.utils import column_or_1d\n",
        "from sklearn.svm import OneClassSVM"
      ],
      "execution_count": 0,
      "outputs": []
    },
    {
      "cell_type": "markdown",
      "metadata": {
        "id": "YQpjX3osPjiD",
        "colab_type": "text"
      },
      "source": [
        "## Glance at Dataset"
      ]
    },
    {
      "cell_type": "code",
      "metadata": {
        "id": "IVvolxUldSFZ",
        "colab_type": "code",
        "colab": {}
      },
      "source": [
        "path = \"/content/gdrive/My Drive/Colab Notebooks/agenda_classifiers/agenda_data_generation/balanced_agenda_type_dataset.csv\"\n",
        "df = pd.read_csv(path, index_col=0)"
      ],
      "execution_count": 0,
      "outputs": []
    },
    {
      "cell_type": "code",
      "metadata": {
        "id": "GBxGN1wLH1Tr",
        "colab_type": "code",
        "outputId": "0890b31c-9705-47f8-c1bc-ec040e46495d",
        "colab": {
          "base_uri": "https://localhost:8080/",
          "height": 204
        }
      },
      "source": [
        "df.head()"
      ],
      "execution_count": 6,
      "outputs": [
        {
          "output_type": "execute_result",
          "data": {
            "text/html": [
              "<div>\n",
              "<style scoped>\n",
              "    .dataframe tbody tr th:only-of-type {\n",
              "        vertical-align: middle;\n",
              "    }\n",
              "\n",
              "    .dataframe tbody tr th {\n",
              "        vertical-align: top;\n",
              "    }\n",
              "\n",
              "    .dataframe thead th {\n",
              "        text-align: right;\n",
              "    }\n",
              "</style>\n",
              "<table border=\"1\" class=\"dataframe\">\n",
              "  <thead>\n",
              "    <tr style=\"text-align: right;\">\n",
              "      <th></th>\n",
              "      <th>channel_name</th>\n",
              "      <th>channel_type</th>\n",
              "      <th>channel_description</th>\n",
              "      <th>channel_size</th>\n",
              "    </tr>\n",
              "  </thead>\n",
              "  <tbody>\n",
              "    <tr>\n",
              "      <th>0</th>\n",
              "      <td>mark.hughes@intercom.io</td>\n",
              "      <td>one-on-one</td>\n",
              "      <td>NaN</td>\n",
              "      <td>2.0</td>\n",
              "    </tr>\n",
              "    <tr>\n",
              "      <th>1</th>\n",
              "      <td>Djiboutian franc</td>\n",
              "      <td>none</td>\n",
              "      <td>NaN</td>\n",
              "      <td>10.0</td>\n",
              "    </tr>\n",
              "    <tr>\n",
              "      <th>2</th>\n",
              "      <td>John Stacy Lagasca</td>\n",
              "      <td>one-on-one</td>\n",
              "      <td>NaN</td>\n",
              "      <td>2.0</td>\n",
              "    </tr>\n",
              "    <tr>\n",
              "      <th>3</th>\n",
              "      <td>Jason &amp; Raymond</td>\n",
              "      <td>one-on-one</td>\n",
              "      <td>NaN</td>\n",
              "      <td>2.0</td>\n",
              "    </tr>\n",
              "    <tr>\n",
              "      <th>4</th>\n",
              "      <td>goodwin</td>\n",
              "      <td>none</td>\n",
              "      <td>NaN</td>\n",
              "      <td>2.0</td>\n",
              "    </tr>\n",
              "  </tbody>\n",
              "</table>\n",
              "</div>"
            ],
            "text/plain": [
              "              channel_name channel_type channel_description  channel_size\n",
              "0  mark.hughes@intercom.io   one-on-one                 NaN           2.0\n",
              "1         Djiboutian franc         none                 NaN          10.0\n",
              "2       John Stacy Lagasca   one-on-one                 NaN           2.0\n",
              "3          Jason & Raymond   one-on-one                 NaN           2.0\n",
              "4                  goodwin         none                 NaN           2.0"
            ]
          },
          "metadata": {
            "tags": []
          },
          "execution_count": 6
        }
      ]
    },
    {
      "cell_type": "code",
      "metadata": {
        "id": "81ytoBy4H4P5",
        "colab_type": "code",
        "outputId": "fd30584d-50f4-4dcd-84ab-2944ca49fcd9",
        "colab": {
          "base_uri": "https://localhost:8080/",
          "height": 85
        }
      },
      "source": [
        "df.channel_type.value_counts()"
      ],
      "execution_count": 7,
      "outputs": [
        {
          "output_type": "execute_result",
          "data": {
            "text/plain": [
              "none          31578\n",
              "group         15789\n",
              "one-on-one    15789\n",
              "Name: channel_type, dtype: int64"
            ]
          },
          "metadata": {
            "tags": []
          },
          "execution_count": 7
        }
      ]
    },
    {
      "cell_type": "markdown",
      "metadata": {
        "id": "KeKP55W6PoMX",
        "colab_type": "text"
      },
      "source": [
        "## Constants and Helper Functions"
      ]
    },
    {
      "cell_type": "code",
      "metadata": {
        "id": "pq6TInVn0MnV",
        "colab_type": "code",
        "colab": {}
      },
      "source": [
        "SVM_MODEL_DIR = \"/content/gdrive/My Drive/models/svm_models\""
      ],
      "execution_count": 0,
      "outputs": []
    },
    {
      "cell_type": "code",
      "metadata": {
        "id": "yYNV9ROvMZep",
        "colab_type": "code",
        "colab": {}
      },
      "source": [
        "def preprocess_text(sentence):\n",
        "    if not isinstance(sentence, str):\n",
        "      return \"\"\n",
        "\n",
        "    sentence = sentence.lower().replace(\"1\", \"one\").replace(\"&\", \"and\")\n",
        "    \n",
        "    # Remove punctuation \n",
        "    sentence = re.sub(\"[^a-zA-Z\\@\\:]\", \" \", sentence)\n",
        "\n",
        "    # Single character removal\n",
        "    sentence = re.sub(r\"\\s+[a-zA-Z]\\s+\", \" \", sentence)\n",
        "\n",
        "    # Removing multiple spaces\n",
        "    sentence = re.sub(r\"\\s+\", \" \", sentence)\n",
        "\n",
        "    return sentence"
      ],
      "execution_count": 0,
      "outputs": []
    },
    {
      "cell_type": "code",
      "metadata": {
        "id": "k5KnJtu6NKEr",
        "colab_type": "code",
        "colab": {}
      },
      "source": [
        "def build_dataset(X_train, root_path, pkl_file):\n",
        "  tfidf_vect = TfidfVectorizer(max_features=5000)\n",
        "  tfidf_vect.fit(X_train)\n",
        "\n",
        "  # Save the fitted vectorizer\n",
        "  pickle.dump(tfidf_vect, open(f\"{root_path}/{pkl_file}\", \"wb\"))\n",
        "\n",
        "  X_tfidf_train = tfidf_vect.transform(X_train)\n",
        "\n",
        "  return X_tfidf_train"
      ],
      "execution_count": 0,
      "outputs": []
    },
    {
      "cell_type": "code",
      "metadata": {
        "id": "Gn5rts_EOUOR",
        "colab_type": "code",
        "colab": {}
      },
      "source": [
        "def train_model(X_train, kernel, nu, gamma):\n",
        "  model = OneClassSVM(kernel=kernel, nu=nu, gamma=gamma)\n",
        "  model.fit(X_train)\n",
        "\n",
        "  return model"
      ],
      "execution_count": 0,
      "outputs": []
    },
    {
      "cell_type": "code",
      "metadata": {
        "id": "QtNoZXVH-0zp",
        "colab_type": "code",
        "colab": {}
      },
      "source": [
        "def optimize_one_class_svm(X_train, X_test, y_test, vectorizer):\n",
        "  kernels = [\"linear\", \"poly\", \"rbf\", \"sigmoid\"]\n",
        "  gammas = [0.01, 0.001, 0.0001, \"auto\", \"scale\"]\n",
        "  nus = [0.15, 0.25, 0.5, 0.75, 0.95]\n",
        "\n",
        "  permutations = list(itertools.product(kernels, gammas, nus))\n",
        "  curr_acc = 0\n",
        "  model_info = {}\n",
        "\n",
        "  for permutation in tqdm(permutations):\n",
        "    kernel, gamma, nu = permutation\n",
        "\n",
        "    svm = train_model(X_train, kernel, nu, gamma)\n",
        "    preds = get_predictions(X_test, svm, vectorizer)\n",
        "    acc = calculate_accuracy(preds, y_test)\n",
        "\n",
        "    if acc > curr_acc:\n",
        "      curr_acc = acc\n",
        "\n",
        "      model_info[\"model\"] = svm\n",
        "      model_info[\"acc\"] = curr_acc\n",
        "\n",
        "      with open(f\"{SVM_MODEL_DIR}/optimal_svm.pkl\", \"wb\") as svm_pkl:\n",
        "        pickle.dump(model_info, svm_pkl)\n",
        "\n",
        "  return svm, curr_acc"
      ],
      "execution_count": 0,
      "outputs": []
    },
    {
      "cell_type": "code",
      "metadata": {
        "id": "4JdgvHW39ysC",
        "colab_type": "code",
        "colab": {}
      },
      "source": [
        "def get_predictions(X_test, model, vectorizer):\n",
        "  items = vectorizer.transform(X_test)\n",
        "  predictions = model.predict(items)\n",
        "\n",
        "  return predictions"
      ],
      "execution_count": 0,
      "outputs": []
    },
    {
      "cell_type": "code",
      "metadata": {
        "id": "mwIFuZsg-Np9",
        "colab_type": "code",
        "colab": {}
      },
      "source": [
        "def calculate_accuracy(predictions, y_test):\n",
        "  return sum(\n",
        "      [pred == actual for pred, actual in zip(predictions, y_test)]\n",
        "  ) / len(predictions)"
      ],
      "execution_count": 0,
      "outputs": []
    },
    {
      "cell_type": "markdown",
      "metadata": {
        "id": "JhwN5Lr0K3ik",
        "colab_type": "text"
      },
      "source": [
        "## Preparing Dataset\n",
        "Our `OneClassSVM` is an unsupervised algorithm, so there is no need to have labels for the training set. We also only want to feed the model \"positive\" data (data that is not considered an outlier).\n",
        "\n",
        "For the purposes of determining outliers, `channel_description` and `channel_size` are not very helpful features, so they are dropped."
      ]
    },
    {
      "cell_type": "code",
      "metadata": {
        "id": "pqImLKte28Sl",
        "colab_type": "code",
        "colab": {}
      },
      "source": [
        "df = df.drop(columns=[\"channel_description\", \"channel_size\"])"
      ],
      "execution_count": 0,
      "outputs": []
    },
    {
      "cell_type": "code",
      "metadata": {
        "id": "zNw5-BAQd2ki",
        "colab_type": "code",
        "colab": {}
      },
      "source": [
        "df[\"channel_type\"] = df[\"channel_type\"].apply(\n",
        "    lambda x: \"relevant\" if x == \"group\" or x == \"one-on-one\" else x\n",
        ")"
      ],
      "execution_count": 0,
      "outputs": []
    },
    {
      "cell_type": "code",
      "metadata": {
        "id": "sJHc7BZzeGqJ",
        "colab_type": "code",
        "outputId": "4ace4dfa-cdfa-4e41-cfc3-5713510c507a",
        "colab": {
          "base_uri": "https://localhost:8080/",
          "height": 68
        }
      },
      "source": [
        "df.channel_type.value_counts()"
      ],
      "execution_count": 17,
      "outputs": [
        {
          "output_type": "execute_result",
          "data": {
            "text/plain": [
              "none        31578\n",
              "relevant    31578\n",
              "Name: channel_type, dtype: int64"
            ]
          },
          "metadata": {
            "tags": []
          },
          "execution_count": 17
        }
      ]
    },
    {
      "cell_type": "code",
      "metadata": {
        "id": "jtz1wYK-0GiK",
        "colab_type": "code",
        "colab": {}
      },
      "source": [
        "df[\"channel_name\"] = df[\"channel_name\"].apply(preprocess_text)"
      ],
      "execution_count": 0,
      "outputs": []
    },
    {
      "cell_type": "code",
      "metadata": {
        "id": "oQ_T3Sd41As1",
        "colab_type": "code",
        "colab": {}
      },
      "source": [
        "df = df.drop_duplicates()"
      ],
      "execution_count": 0,
      "outputs": []
    },
    {
      "cell_type": "code",
      "metadata": {
        "colab_type": "code",
        "id": "-fgWMdSeYkD1",
        "colab": {}
      },
      "source": [
        "df = df.sample(frac=1)\n",
        "X = df.drop(columns=[\"channel_type\"])\n",
        "y = df.drop(columns=[\"channel_name\"])"
      ],
      "execution_count": 0,
      "outputs": []
    },
    {
      "cell_type": "code",
      "metadata": {
        "id": "BBUE7VZa2bso",
        "colab_type": "code",
        "colab": {}
      },
      "source": [
        "# y_train will not be used since OneClassSVM is unsupervised\n",
        "X_train, X_test, y_train, y_test = train_test_split(\n",
        "    X, y, test_size=0.1\n",
        ")"
      ],
      "execution_count": 0,
      "outputs": []
    },
    {
      "cell_type": "markdown",
      "metadata": {
        "id": "jxKJNXtFLpc9",
        "colab_type": "text"
      },
      "source": [
        "Even though our algorithm is unsupervised, the **test** set should still have labels since it is used for evaluation purposes, not training. The test set should also be a balanced dataset to ensure that our accuracy metrics are unbiased."
      ]
    },
    {
      "cell_type": "code",
      "metadata": {
        "id": "BumpvpoCGN-w",
        "colab_type": "code",
        "outputId": "ce4ec699-7650-4437-b7f1-6d7985b5a183",
        "colab": {
          "base_uri": "https://localhost:8080/",
          "height": 68
        }
      },
      "source": [
        "y_test.channel_type.value_counts()"
      ],
      "execution_count": 22,
      "outputs": [
        {
          "output_type": "execute_result",
          "data": {
            "text/plain": [
              "relevant    2947\n",
              "none        1248\n",
              "Name: channel_type, dtype: int64"
            ]
          },
          "metadata": {
            "tags": []
          },
          "execution_count": 22
        }
      ]
    },
    {
      "cell_type": "code",
      "metadata": {
        "id": "4Yp4d0kqGk0-",
        "colab_type": "code",
        "colab": {}
      },
      "source": [
        "diff = y_test.channel_type.value_counts()[\"relevant\"] - y_test.channel_type.value_counts()[\"none\"]"
      ],
      "execution_count": 0,
      "outputs": []
    },
    {
      "cell_type": "code",
      "metadata": {
        "id": "B8ty3LUwGgZH",
        "colab_type": "code",
        "colab": {}
      },
      "source": [
        "idxs_to_drop = y_test[y_test.channel_type == \"relevant\"][:diff].index\n",
        "X_test = X_test.drop(idxs_to_drop)\n",
        "y_test = y_test.drop(idxs_to_drop)"
      ],
      "execution_count": 0,
      "outputs": []
    },
    {
      "cell_type": "code",
      "metadata": {
        "id": "jE-kofcuG0zw",
        "colab_type": "code",
        "outputId": "59d907fd-0ba3-4f7b-e163-e7adb294a014",
        "colab": {
          "base_uri": "https://localhost:8080/",
          "height": 68
        }
      },
      "source": [
        "y_test.channel_type.value_counts()"
      ],
      "execution_count": 25,
      "outputs": [
        {
          "output_type": "execute_result",
          "data": {
            "text/plain": [
              "none        1248\n",
              "relevant    1248\n",
              "Name: channel_type, dtype: int64"
            ]
          },
          "metadata": {
            "tags": []
          },
          "execution_count": 25
        }
      ]
    },
    {
      "cell_type": "code",
      "metadata": {
        "id": "HP2QTY9_8O60",
        "colab_type": "code",
        "colab": {}
      },
      "source": [
        "X_train = X_train.drop(y_train[y_train.channel_type == \"none\"].index)"
      ],
      "execution_count": 0,
      "outputs": []
    },
    {
      "cell_type": "code",
      "metadata": {
        "id": "CT6y_L4ObdgQ",
        "colab_type": "code",
        "colab": {}
      },
      "source": [
        "y_test[\"channel_type\"] = y_test[\"channel_type\"].apply(\n",
        "    lambda x: -1 if x == \"none\" else 1\n",
        ")\n",
        "y_test = np.array(y_test[\"channel_type\"])"
      ],
      "execution_count": 0,
      "outputs": []
    },
    {
      "cell_type": "markdown",
      "metadata": {
        "id": "vXMr2kx1MCl-",
        "colab_type": "text"
      },
      "source": [
        "We vectorize the `channel_name` text in order for the model to process the input. Then, we load and save the vectorizer since it is also used for training and making predictions."
      ]
    },
    {
      "cell_type": "code",
      "metadata": {
        "id": "Nc7Z9ZSTeH0B",
        "colab_type": "code",
        "colab": {}
      },
      "source": [
        "svm_dataset = build_dataset(\n",
        "    X_train[\"channel_name\"], \n",
        "    SVM_MODEL_DIR, \n",
        "    \"svm_vectorizer.pickle\"\n",
        ")"
      ],
      "execution_count": 0,
      "outputs": []
    },
    {
      "cell_type": "code",
      "metadata": {
        "id": "FVb5bFLsgpQ2",
        "colab_type": "code",
        "colab": {}
      },
      "source": [
        "with open(f\"{SVM_MODEL_DIR}/svm_vectorizer.pickle\", \"rb\") as vec_file:\n",
        "  svm_vectorizer = pickle.load(vec_file)"
      ],
      "execution_count": 0,
      "outputs": []
    },
    {
      "cell_type": "markdown",
      "metadata": {
        "id": "OUeArTATMRdH",
        "colab_type": "text"
      },
      "source": [
        "## Building the Model\n",
        "To ensure the highest possible accuracy, we run an automated hyperparameter tuner to determine which parameters produce the highest test set accuracy. \n",
        "\n",
        "The hyperparameters for the `OneClassSVM` that are tuned are:\n",
        "- kernels\n",
        "- nu\n",
        "- gamma\n",
        "\n",
        "Details on the model and its parameters can be found in the [sklearn documentation](https://scikit-learn.org/stable/modules/generated/sklearn.svm.OneClassSVM.html#sklearn.svm.OneClassSVM). "
      ]
    },
    {
      "cell_type": "code",
      "metadata": {
        "id": "5nF4qVOl_Zkn",
        "colab_type": "code",
        "colab": {
          "base_uri": "https://localhost:8080/",
          "height": 66,
          "referenced_widgets": [
            "3860c125259d48e3858c9d7676e76dad",
            "7b2c54e8a7e24c2f8a57408d75923cf3",
            "7c8b686746634b16bae5950c68c08a13",
            "be70f04a9aba4179911a1151ed0da108",
            "ec2ebda4c59b40c38c808b7df09f9786",
            "e6a32ad6a5d84172a1885716c711642b",
            "caf92133b26c4c7fbd3e462f36b9b17e",
            "b3865c031eb647e4bdf45052ee1ced44"
          ]
        },
        "outputId": "62d630a8-007c-4a15-8c30-83abc039b789"
      },
      "source": [
        "opt_model, opt_acc = optimize_one_class_svm(\n",
        "    svm_dataset, \n",
        "    X_test[\"channel_name\"], \n",
        "    y_test, \n",
        "    svm_vectorizer\n",
        ")"
      ],
      "execution_count": 36,
      "outputs": [
        {
          "output_type": "display_data",
          "data": {
            "application/vnd.jupyter.widget-view+json": {
              "model_id": "3860c125259d48e3858c9d7676e76dad",
              "version_minor": 0,
              "version_major": 2
            },
            "text/plain": [
              "HBox(children=(IntProgress(value=0), HTML(value='')))"
            ]
          },
          "metadata": {
            "tags": []
          }
        },
        {
          "output_type": "stream",
          "text": [
            "\n"
          ],
          "name": "stdout"
        }
      ]
    },
    {
      "cell_type": "code",
      "metadata": {
        "id": "ygonNkTkJczQ",
        "colab_type": "code",
        "colab": {}
      },
      "source": [
        "import pickle \n",
        "\n",
        "with open(f\"{SVM_MODEL_DIR}/optimal_svm.pkl\", \"rb\") as svm_file:\n",
        "  loaded_model = pickle.load(svm_file)"
      ],
      "execution_count": 0,
      "outputs": []
    },
    {
      "cell_type": "code",
      "metadata": {
        "id": "s77VAkVdIh60",
        "colab_type": "code",
        "colab": {
          "base_uri": "https://localhost:8080/",
          "height": 85
        },
        "outputId": "a38bedfe-77e4-4b52-9e78-0fd7b9902e2a"
      },
      "source": [
        "loaded_model"
      ],
      "execution_count": 38,
      "outputs": [
        {
          "output_type": "execute_result",
          "data": {
            "text/plain": [
              "{'acc': 0.8241185897435898,\n",
              " 'model': OneClassSVM(cache_size=200, coef0=0.0, degree=3, gamma=0.001,\n",
              "       kernel='sigmoid', max_iter=-1, nu=0.25, random_state=None,\n",
              "       shrinking=True, tol=0.001, verbose=False)}"
            ]
          },
          "metadata": {
            "tags": []
          },
          "execution_count": 38
        }
      ]
    },
    {
      "cell_type": "markdown",
      "metadata": {
        "id": "eKw_ZY2vMgBg",
        "colab_type": "text"
      },
      "source": [
        "## Predictions\n",
        "Here are some input examples that are predicted from the model with the highest accuracy that was found by the hyperparameter tuner.\n",
        "\n",
        "-1 represents an outlier while 1 represents a text that can be classified as either a group or one-on-one event name.\n",
        "\n"
      ]
    },
    {
      "cell_type": "code",
      "metadata": {
        "id": "5Zg0Yis8hFRl",
        "colab_type": "code",
        "outputId": "56629257-d752-42e1-cbbe-461c64adeee2",
        "colab": {
          "base_uri": "https://localhost:8080/",
          "height": 374
        }
      },
      "source": [
        "item1 = preprocess_text(\"meeting with the team\")\n",
        "item2 = preprocess_text(\"one on one with harry every week\")\n",
        "item3 = preprocess_text(\"is this an outlier?\")\n",
        "item4 = preprocess_text(\"project kickoff\")\n",
        "item5 = preprocess_text(\"Sales / marketing\")\n",
        "item6 = preprocess_text(\"amy & john catch-up\")\n",
        "item7 = preprocess_text(\"i am a human\")\n",
        "\n",
        "test_item = pd.Series([item1, item2, item3, item4, item5, item6, item7])\n",
        "preds = get_predictions(test_item, loaded_model[\"model\"], svm_vectorizer)\n",
        "\n",
        "for i in range(len(preds)):\n",
        "  print(f\"Text Input: {test_item[i]}\")\n",
        "  print(f\"Prediction: {preds[i]}\")\n",
        "  print(\"-----------------------------\")"
      ],
      "execution_count": 39,
      "outputs": [
        {
          "output_type": "stream",
          "text": [
            "Text Input: meeting with the team\n",
            "Prediction: 1\n",
            "-----------------------------\n",
            "Text Input: one on one with harry every week\n",
            "Prediction: 1\n",
            "-----------------------------\n",
            "Text Input: is this an outlier \n",
            "Prediction: -1\n",
            "-----------------------------\n",
            "Text Input: project kickoff\n",
            "Prediction: 1\n",
            "-----------------------------\n",
            "Text Input: sales marketing\n",
            "Prediction: 1\n",
            "-----------------------------\n",
            "Text Input: amy and john catch up\n",
            "Prediction: 1\n",
            "-----------------------------\n",
            "Text Input: i am human\n",
            "Prediction: -1\n",
            "-----------------------------\n"
          ],
          "name": "stdout"
        }
      ]
    }
  ]
}